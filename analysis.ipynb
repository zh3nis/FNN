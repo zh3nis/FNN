{
 "cells": [
  {
   "cell_type": "code",
   "execution_count": 1,
   "metadata": {
    "collapsed": true
   },
   "outputs": [],
   "source": [
    "import os\n",
    "os.environ[\"CUDA_DEVICE_ORDER\"]=\"PCI_BUS_ID\"\n",
    "os.environ[\"CUDA_VISIBLE_DEVICES\"]=\"0\"\n",
    "\n",
    "import tensorflow as tf\n",
    "import pickle\n",
    "import numpy as np\n",
    "import os\n",
    "import random\n",
    "\n",
    "import math as m\n",
    "pi = m.pi\n",
    "\n",
    "import matplotlib.pyplot as plt"
   ]
  },
  {
   "cell_type": "code",
   "execution_count": 2,
   "metadata": {
    "collapsed": true
   },
   "outputs": [],
   "source": [
    "# Hyperparameters\n",
    "n = 100\n",
    "batch_size = 400\n",
    "input_size = 1\n",
    "range_scale = 2\n",
    "train_size = 500000\n",
    "valid_size = 50000"
   ]
  },
  {
   "cell_type": "code",
   "execution_count": 3,
   "metadata": {
    "collapsed": true
   },
   "outputs": [],
   "source": [
    "# Create or import data\n",
    "if not os.path.isfile(os.path.join('/home/zhenisbek/FNN/absvalue/data', 'absvalue_train.pkl')): \n",
    "    x_train = np.random.uniform(-pi, pi, [train_size, 1])\n",
    "    y_train = np.squeeze(np.absolute(x_train))\n",
    "    with open(os.path.join('/home/zhenisbek/FNN/absvalue/data', 'absvalue_train.pkl'), 'wb') as my_file:\n",
    "        pickle.dump(x_train, my_file)\n",
    "        pickle.dump(y_train, my_file)\n",
    "else:\n",
    "    with open(os.path.join('/home/zhenisbek/FNN/absvalue/data', 'absvalue_train.pkl'), 'rb') as my_file:\n",
    "        x_train = pickle.load(my_file)\n",
    "        y_train = pickle.load(my_file)\n",
    "\n",
    "if not os.path.isfile(os.path.join('/home/zhenisbek/FNN/absvalue/data', 'absvalue_valid.pkl')): \n",
    "    x_valid = np.random.uniform(-pi, pi, [valid_size, 1])\n",
    "    y_valid = np.squeeze(np.absolute(x_valid))\n",
    "    with open(os.path.join('/home/zhenisbek/FNN/absvalue/data', 'absvalue_valid.pkl'), 'wb') as my_file1:\n",
    "        pickle.dump(x_valid, my_file1)\n",
    "        pickle.dump(y_valid, my_file1)\n",
    "else:\n",
    "    with open(os.path.join('/home/zhenisbek/FNN/absvalue/data', 'absvalue_valid.pkl'), 'rb') as my_file1:\n",
    "        x_valid = pickle.load(my_file1)\n",
    "        y_valid = pickle.load(my_file1)\n",
    "\n",
    "\n",
    "# Batching\n",
    "def get_batch(i):\n",
    "    n=i%batch_size\n",
    "    x_batch=x_train[(n*batch_size):(batch_size*(n+1))]\n",
    "    y_batch=y_train[(n*batch_size):(batch_size*(n+1))]\n",
    "    return x_batch, y_batch\n",
    "\n",
    "def get_batch_valid(i):\n",
    "    n=i%batch_size\n",
    "    x_batch=x_valid[(n*batch_size):(batch_size*(n+1))]\n",
    "    y_batch=y_valid[(n*batch_size):(batch_size*(n+1))]\n",
    "    return x_batch, y_batch\n",
    "\n",
    "\n",
    "# Number of batches in train and valid splits\n",
    "total_batch = int(x_train.shape[0]/batch_size)\n",
    "valid_total_batch=int(x_valid.shape[0]/batch_size)"
   ]
  },
  {
   "cell_type": "code",
   "execution_count": 4,
   "metadata": {
    "collapsed": true
   },
   "outputs": [],
   "source": [
    "class Vanilla:\n",
    "  '''Vanilla NN Model'''\n",
    "  def __init__(self):\n",
    "    # Placeholders and model parameters\n",
    "    self.x = tf.placeholder(tf.float32, [None, input_size])\n",
    "    self.y = tf.placeholder(tf.float32, [None])\n",
    "\n",
    "    with tf.variable_scope('Vanilla'):\n",
    "      self.w_1 = tf.get_variable(\"w_1\", shape=[input_size, n])\n",
    "      self.w_2 = tf.get_variable(\"w_2\", shape=[n, 1])\n",
    "      self.b_1 = tf.get_variable(\"b_1\", shape=[n])\n",
    "      self.b_2 = tf.get_variable(\"b_2\", shape=[1])\n",
    "\n",
    "    # One-hidden layer NN\n",
    "    self.pre_hidden = tf.matmul(self.x, self.w_1) + self.b_1 \n",
    "    self.hidden = tf.nn.sigmoid(self.pre_hidden)\n",
    "    self.yhat = tf.squeeze(tf.matmul(self.hidden, self.w_2) + self.b_2, 1)\n",
    "    \n",
    "    # Cost function and optimizer\n",
    "    self.Q = tf.nn.l2_loss(self.yhat - self.y)\n",
    "    optimizer = tf.train.AdamOptimizer()\n",
    "    self.train_op = optimizer.minimize(self.Q)"
   ]
  },
  {
   "cell_type": "code",
   "execution_count": 5,
   "metadata": {
    "collapsed": true
   },
   "outputs": [],
   "source": [
    "class GW:\n",
    "  '''Gallant & White Model'''\n",
    "  def __init__(self):\n",
    "    # Placeholders and model parameters\n",
    "    self.x = tf.placeholder(tf.float32, [None, input_size])\n",
    "    self.y = tf.placeholder(tf.float32, [None])\n",
    "\n",
    "    with tf.variable_scope('GW'):\n",
    "      self.w_1 = tf.get_variable(\"w_1\", shape=[input_size, n])\n",
    "      self.w_2 = tf.get_variable(\"w_2\", shape=[n, 1])\n",
    "      self.b_1 = tf.get_variable(\"b_1\", shape=[n])\n",
    "      self.b_2 = tf.get_variable(\"b_2\", shape=[1])\n",
    "\n",
    "    # GW activation function\n",
    "    def gw(u):\n",
    "        return tf.cast(tf.greater_equal(u,-pi/2),tf.float32)*tf.cast(tf.less(u,pi/2),tf.float32)*0.5*(tf.cos(u+(3*pi/2))+1)+(1-tf.cast(tf.less(u,pi/2),tf.float32))  \n",
    "    \n",
    "    # One-hidden layer NN\n",
    "    self.pre_hidden = tf.matmul(self.x, self.w_1) + self.b_1 \n",
    "    self.hidden = gw(self.pre_hidden)\n",
    "    self.yhat = tf.squeeze(tf.matmul(self.hidden, self.w_2) + self.b_2, 1)\n",
    "    \n",
    "    # Cost function and optimizer\n",
    "    self.Q = tf.nn.l2_loss(self.yhat - self.y)\n",
    "    optimizer = tf.train.AdamOptimizer()\n",
    "    self.train_op = optimizer.minimize(self.Q)"
   ]
  },
  {
   "cell_type": "code",
   "execution_count": 6,
   "metadata": {},
   "outputs": [
    {
     "name": "stdout",
     "output_type": "stream",
     "text": [
      "INFO:tensorflow:Restoring parameters from /home/zhenisbek/FNN/absvalue/saves/Vanilla.ckpt\n",
      "Vanilla Model restored.\n",
      "INFO:tensorflow:Restoring parameters from /home/zhenisbek/FNN/absvalue/saves/GW.ckpt\n",
      "Gallant & White Model restored.\n"
     ]
    }
   ],
   "source": [
    "vanilla_graph = tf.Graph()\n",
    "with vanilla_graph.as_default():\n",
    "    vanilla = Vanilla()\n",
    "    vanilla_saver = tf.train.Saver()\n",
    "\n",
    "gw_graph = tf.Graph()\n",
    "with gw_graph.as_default():\n",
    "    gw = GW()\n",
    "    gw_saver = tf.train.Saver()\n",
    "\n",
    "    \n",
    "vanilla_hiddens, vanilla_yhats = np.empty([valid_size, n]), np.empty([valid_size])\n",
    "gw_hiddens, gw_yhats = np.empty([valid_size, n]), np.empty([valid_size]) \n",
    "\n",
    "with tf.Session(graph=vanilla_graph) as vanilla_sess, tf.Session(graph=gw_graph) as gw_sess:\n",
    "    # Restore variables from disk.\n",
    "    vanilla_saver.restore(\n",
    "        vanilla_sess, os.path.join('/home/zhenisbek/FNN/absvalue/saves', 'Vanilla.ckpt'))\n",
    "    print('Vanilla Model restored.')\n",
    "    gw_saver.restore(\n",
    "        gw_sess, os.path.join('/home/zhenisbek/FNN/absvalue/saves', 'GW.ckpt'))\n",
    "    print('Gallant & White Model restored.')\n",
    "  \n",
    "    for l in range(valid_total_batch):\n",
    "        x_batch_valid, y_batch_valid = get_batch_valid(l)\n",
    "        vanilla_hidden, vanilla_yhat = vanilla_sess.run(\n",
    "          [vanilla.pre_hidden, vanilla.yhat], {vanilla.x: x_batch_valid, vanilla.y: y_batch_valid})\n",
    "        vanilla_hiddens[l * batch_size : (l + 1) * batch_size, :] = vanilla_hidden\n",
    "        vanilla_yhats[l * batch_size : (l + 1) * batch_size] = vanilla_yhat\n",
    "    \n",
    "    vanilla_w2, vanilla_b2 = vanilla_sess.run([vanilla.w_2, vanilla.b_2])\n",
    "    \n",
    "    for l in range(valid_total_batch):\n",
    "        x_batch_valid, y_batch_valid = get_batch_valid(l)\n",
    "        gw_hidden, gw_yhat = gw_sess.run(\n",
    "          [gw.pre_hidden, gw.yhat], {gw.x: x_batch_valid, gw.y: y_batch_valid})\n",
    "        gw_hiddens[l * batch_size : (l + 1) * batch_size, :] = gw_hidden\n",
    "        gw_yhats[l * batch_size : (l + 1) * batch_size] = gw_yhat\n",
    "        \n",
    "    gw_w2, gw_b2 = gw_sess.run([gw.w_2, gw.b_2])"
   ]
  },
  {
   "cell_type": "code",
   "execution_count": 12,
   "metadata": {},
   "outputs": [],
   "source": [
    "abs_vanilla_errors = np.abs(vanilla_yhats - y_valid)\n",
    "abs_gw_errors = np.abs(gw_yhats - y_valid)\n",
    "vanilla_01 = np.percentile(abs_vanilla_errors, 10)\n",
    "gw_99 = np.percentile(abs_gw_errors, 90)"
   ]
  },
  {
   "cell_type": "code",
   "execution_count": 41,
   "metadata": {},
   "outputs": [
    {
     "data": {
      "image/png": "[encoded data removed]",
      "text/plain": [
       "<matplotlib.figure.Figure at 0x7fec60035be0>"
      ]
     },
     "metadata": {},
     "output_type": "display_data"
    }
   ],
   "source": [
    "plt.hist(vanilla_hiddens.flatten(), bins=30, log=True)\n",
    "plt.show()"
   ]
  },
  {
   "cell_type": "code",
   "execution_count": 45,
   "metadata": {},
   "outputs": [
    {
     "data": {
      "image/png": "[encoded data removed]",
      "text/plain": [
       "<matplotlib.figure.Figure at 0x7febe1c6b908>"
      ]
     },
     "metadata": {},
     "output_type": "display_data"
    }
   ],
   "source": [
    "plt.hist(gw_hiddens.flatten(), bins=40, log=True)\n",
    "#plt.savefig('pre_activ.pdf', format='pdf')\n",
    "plt.show()"
   ]
  },
  {
   "cell_type": "code",
   "execution_count": 25,
   "metadata": {
    "collapsed": true
   },
   "outputs": [],
   "source": [
    "np.savetxt('pre-activ.csv', gw_hiddens.flatten(), delimiter=',')"
   ]
  },
  {
   "cell_type": "code",
   "execution_count": 37,
   "metadata": {},
   "outputs": [
    {
     "data": {
      "text/plain": [
       "0.0786188"
      ]
     },
     "execution_count": 37,
     "metadata": {},
     "output_type": "execute_result"
    }
   ],
   "source": [
    "len(gw_hiddens.flatten()[(gw_hiddens.flatten() < -pi/2) | (gw_hiddens.flatten() > pi/2)])/len(gw_hiddens.flatten())"
   ]
  },
  {
   "cell_type": "code",
   "execution_count": 19,
   "metadata": {},
   "outputs": [
    {
     "data": {
      "image/png": "[encoded data removed]",
      "text/plain": [
       "<matplotlib.figure.Figure at 0x7fec44041c50>"
      ]
     },
     "metadata": {},
     "output_type": "display_data"
    }
   ],
   "source": [
    "plt.boxplot([vanilla_hiddens.flatten(), gw_hiddens.flatten()])\n",
    "plt.show()"
   ]
  }
 ],
 "metadata": {
  "kernelspec": {
   "display_name": "Python 3",
   "language": "python",
   "name": "python3"
  },
  "language_info": {
   "codemirror_mode": {
    "name": "ipython",
    "version": 3
   },
   "file_extension": ".py",
   "mimetype": "text/x-python",
   "name": "python",
   "nbconvert_exporter": "python",
   "pygments_lexer": "ipython3",
   "version": "3.6.10"
  }
 },
 "nbformat": 4,
 "nbformat_minor": 2
}
